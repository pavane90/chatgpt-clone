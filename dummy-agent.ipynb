{
 "cells": [
  {
   "cell_type": "code",
   "execution_count": 10,
   "id": "2ae51d8c",
   "metadata": {},
   "outputs": [
    {
     "name": "stdout",
     "output_type": "stream",
     "text": [
      "Agent updated to :  Assistant Agent\n",
      "tool_call_item\n",
      "====================\n",
      "Tokyo, Japan\n",
      "tool_call_output_item\n",
      "====================\n",
      "message_output_item\n",
      "====================\n"
     ]
    }
   ],
   "source": [
    "from agents import Agent, Runner, function_tool\n",
    "\n",
    "@function_tool\n",
    "def get_weather(city:str):\n",
    "    \"\"\" Get weather by city \"\"\"\n",
    "    print(city)\n",
    "    return \"30 degrees\"\n",
    "\n",
    "agent = Agent(\n",
    "    name=\"Assistant Agent\",\n",
    "    instructions=\"You are a halpful assistant. Use tools when needed to answer questions\",\n",
    "    tools=[get_weather]\n",
    ")\n",
    "\n",
    "stream = Runner.run_streamed(agent, \"Hello world what is the weather in the tokyo, japan\")\n",
    "\n",
    "async for event in stream.stream_events():\n",
    "    if event.type == \"raw_response_event\":\n",
    "        continue\n",
    "    elif event.type == \"agent_updated_stream_event\":\n",
    "        print(\"Agent updated to : \", event.new_agent.name)\n",
    "    elif event.type == \"run_item_stream_event\":\n",
    "        print(event.item.type)\n",
    "        print(\"=\" * 20)"
   ]
  },
  {
   "cell_type": "code",
   "execution_count": null,
   "id": "4f00711f",
   "metadata": {},
   "outputs": [],
   "source": []
  }
 ],
 "metadata": {
  "kernelspec": {
   "display_name": "chatgpt-clone",
   "language": "python",
   "name": "python3"
  },
  "language_info": {
   "codemirror_mode": {
    "name": "ipython",
    "version": 3
   },
   "file_extension": ".py",
   "mimetype": "text/x-python",
   "name": "python",
   "nbconvert_exporter": "python",
   "pygments_lexer": "ipython3",
   "version": "3.13.7"
  }
 },
 "nbformat": 4,
 "nbformat_minor": 5
}
